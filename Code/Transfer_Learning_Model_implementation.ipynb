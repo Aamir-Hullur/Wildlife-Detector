{
 "cells": [
  {
   "cell_type": "code",
   "execution_count": 26,
   "id": "ab1d71c9",
   "metadata": {},
   "outputs": [
    {
     "name": "stdout",
     "output_type": "stream",
     "text": [
      "Collecting sklearn\n",
      "  Downloading sklearn-0.0.tar.gz (1.1 kB)\n",
      "Collecting scikit-learn\n",
      "  Downloading scikit_learn-0.24.2-cp36-cp36m-win_amd64.whl (6.8 MB)\n",
      "Collecting threadpoolctl>=2.0.0\n",
      "  Downloading threadpoolctl-3.1.0-py3-none-any.whl (14 kB)\n",
      "Requirement already satisfied: numpy>=1.13.3 in e:\\python\\envs\\gpuenv\\lib\\site-packages (from scikit-learn->sklearn) (1.19.5)\n",
      "Collecting joblib>=0.11\n",
      "  Downloading joblib-1.1.0-py2.py3-none-any.whl (306 kB)\n",
      "Collecting scipy>=0.19.1\n",
      "  Downloading scipy-1.5.4-cp36-cp36m-win_amd64.whl (31.2 MB)\n",
      "Building wheels for collected packages: sklearn\n",
      "  Building wheel for sklearn (setup.py): started\n",
      "  Building wheel for sklearn (setup.py): finished with status 'done'\n",
      "  Created wheel for sklearn: filename=sklearn-0.0-py2.py3-none-any.whl size=1310 sha256=bd90d2923ad503d4a4bc6de7e0eb8c239278a7d82c933984c713ee4a0d37ae44\n",
      "  Stored in directory: c:\\users\\hp\\appdata\\local\\pip\\cache\\wheels\\23\\9d\\42\\5ec745cbbb17517000a53cecc49d6a865450d1f5cb16dc8a9c\n",
      "Successfully built sklearn\n",
      "Installing collected packages: threadpoolctl, scipy, joblib, scikit-learn, sklearn\n"
     ]
    },
    {
     "name": "stderr",
     "output_type": "stream",
     "text": [
      "ERROR: Exception:\n",
      "Traceback (most recent call last):\n",
      "  File \"E:\\Python\\envs\\gpuenv\\lib\\site-packages\\pip\\_internal\\cli\\base_command.py\", line 173, in _main\n",
      "    status = self.run(options, args)\n",
      "  File \"E:\\Python\\envs\\gpuenv\\lib\\site-packages\\pip\\_internal\\cli\\req_command.py\", line 203, in wrapper\n",
      "    return func(self, options, args)\n",
      "  File \"E:\\Python\\envs\\gpuenv\\lib\\site-packages\\pip\\_internal\\commands\\install.py\", line 399, in run\n",
      "    pycompile=options.compile,\n",
      "  File \"E:\\Python\\envs\\gpuenv\\lib\\site-packages\\pip\\_internal\\req\\__init__.py\", line 81, in install_given_reqs\n",
      "    pycompile=pycompile,\n",
      "  File \"E:\\Python\\envs\\gpuenv\\lib\\site-packages\\pip\\_internal\\req\\req_install.py\", line 766, in install\n",
      "    requested=self.user_supplied,\n",
      "  File \"E:\\Python\\envs\\gpuenv\\lib\\site-packages\\pip\\_internal\\operations\\install\\wheel.py\", line 802, in install_wheel\n",
      "    requested=requested,\n",
      "  File \"E:\\Python\\envs\\gpuenv\\lib\\site-packages\\pip\\_internal\\operations\\install\\wheel.py\", line 676, in _install_wheel\n",
      "    assert os.path.exists(pyc_path)\n",
      "AssertionError\n"
     ]
    },
    {
     "name": "stdout",
     "output_type": "stream",
     "text": [
      "Collecting scikit-learnNote: you may need to restart the kernel to use updated packages.\n",
      "  Using cached scikit_learn-0.24.2-cp36-cp36m-win_amd64.whl (6.8 MB)\n",
      "Requirement already satisfied: numpy>=1.13.3 in e:\\python\\envs\\gpuenv\\lib\\site-packages (from scikit-learn) (1.19.5)\n",
      "Collecting joblib>=0.11\n",
      "  Using cached joblib-1.1.0-py2.py3-none-any.whl (306 kB)\n",
      "Requirement already satisfied: threadpoolctl>=2.0.0 in e:\\python\\envs\\gpuenv\\lib\\site-packages (from scikit-learn) (3.1.0)\n",
      "Collecting scipy>=0.19.1\n",
      "  Using cached scipy-1.5.4-cp36-cp36m-win_amd64.whl (31.2 MB)\n",
      "Installing collected packages: scipy, joblib, scikit-learn\n",
      "Successfully installed joblib-1.1.0 scikit-learn-0.24.2 scipy-1.5.4\n",
      "\n"
     ]
    }
   ],
   "source": [
    "pip install scikit-learn"
   ]
  },
  {
   "cell_type": "code",
   "execution_count": 1,
   "id": "ddd8584e",
   "metadata": {},
   "outputs": [],
   "source": [
    "import helper"
   ]
  },
  {
   "cell_type": "code",
   "execution_count": 2,
   "id": "9ec09ddd",
   "metadata": {},
   "outputs": [],
   "source": [
    "from helper import *"
   ]
  },
  {
   "cell_type": "code",
   "execution_count": 3,
   "id": "e3a7d4c8",
   "metadata": {},
   "outputs": [],
   "source": [
    "import os\n",
    "import tensorflow as tf\n",
    "train_dir = \"E:\\\\3rd Year\\\\T9\\\\AI\\\\Mini Project\\\\New_Data\\\\train\"\n",
    "test_dir = \"E:\\\\3rd Year\\\\T9\\\\AI\\\\Mini Project\\\\New_Data\\\\test\""
   ]
  },
  {
   "cell_type": "code",
   "execution_count": 4,
   "id": "d4c36253",
   "metadata": {},
   "outputs": [
    {
     "data": {
      "text/plain": [
       "array(['Blank', 'Not_Blank'], dtype='<U9')"
      ]
     },
     "execution_count": 4,
     "metadata": {},
     "output_type": "execute_result"
    }
   ],
   "source": [
    "import pathlib\n",
    "import numpy as np\n",
    "\n",
    "data_dir = pathlib.Path(train_dir)\n",
    "\n",
    "class_names = np.array(sorted([item.name for item in data_dir.glob('*')]))\n",
    "class_names"
   ]
  },
  {
   "cell_type": "code",
   "execution_count": 5,
   "id": "b787c9e8",
   "metadata": {},
   "outputs": [
    {
     "name": "stdout",
     "output_type": "stream",
     "text": [
      "Found 80852 files belonging to 2 classes.\n",
      "Found 26959 files belonging to 2 classes.\n"
     ]
    }
   ],
   "source": [
    "train_data = tf.keras.preprocessing.image_dataset_from_directory(directory=train_dir,\n",
    "                                                                 image_size = (224,224),\n",
    "                                                                 batch_size = 32,\n",
    "                                                                 label_mode = \"binary\")\n",
    "\n",
    "test_data = tf.keras.preprocessing.image_dataset_from_directory(directory=test_dir,\n",
    "                                                                image_size=(224,224),\n",
    "                                                                batch_size = 32,\n",
    "                                                                label_mode = \"binary\",\n",
    "                                                                shuffle = False)"
   ]
  },
  {
   "cell_type": "code",
   "execution_count": 6,
   "id": "451179d2",
   "metadata": {},
   "outputs": [],
   "source": [
    "from tensorflow.keras import layers \n",
    "from tensorflow.keras.layers.experimental import preprocessing"
   ]
  },
  {
   "cell_type": "markdown",
   "id": "f5fe1329",
   "metadata": {},
   "source": [
    "# InceptionV3"
   ]
  },
  {
   "cell_type": "code",
   "execution_count": 7,
   "id": "3fe1930c",
   "metadata": {},
   "outputs": [],
   "source": [
    "# Setup the Base Model\n",
    "base_model = tf.keras.applications.inception_v3.InceptionV3(include_top=False)\n",
    "base_model.trainable = False\n",
    "\n",
    "# Setup model architecture\n",
    "inputs = layers.Input(shape=(224,224,3), name=\"input_shape\")\n",
    "x = base_model(inputs, training=False)\n",
    "x = layers.GlobalAveragePooling2D(name=\"Global_Average_Pooling\")(x)\n",
    "outputs = layers.Dense(1, activation=\"sigmoid\", name=\"Output_Layer\")(x)\n",
    "transfer_model_1 = tf.keras.Model(inputs, outputs)"
   ]
  },
  {
   "cell_type": "markdown",
   "id": "ab1b1147",
   "metadata": {},
   "source": [
    "# Resnet101"
   ]
  },
  {
   "cell_type": "code",
   "execution_count": 8,
   "id": "18bf5c20",
   "metadata": {},
   "outputs": [],
   "source": [
    "# Setup the Base Model\n",
    "base_model_1 = tf.keras.applications.resnet.ResNet101(include_top=False)\n",
    "base_model_1.trainable = False\n",
    "\n",
    "# Setup model architecture\n",
    "inputs1 = layers.Input(shape=(224,224,3), name=\"input_shape\")\n",
    "x1 = base_model_1(inputs1, training=False)\n",
    "x1 = layers.GlobalAveragePooling2D(name=\"Global_Average_Pooling\")(x1)\n",
    "outputs1 = layers.Dense(1, activation=\"sigmoid\", name=\"Output_Layer\")(x1)\n",
    "transfer_model_2 = tf.keras.Model(inputs1, outputs1)"
   ]
  },
  {
   "cell_type": "code",
   "execution_count": 9,
   "id": "c89c3952",
   "metadata": {},
   "outputs": [
    {
     "name": "stdout",
     "output_type": "stream",
     "text": [
      "Model: \"model\"\n",
      "_________________________________________________________________\n",
      "Layer (type)                 Output Shape              Param #   \n",
      "=================================================================\n",
      "input_shape (InputLayer)     [(None, 224, 224, 3)]     0         \n",
      "_________________________________________________________________\n",
      "inception_v3 (Functional)    (None, None, None, 2048)  21802784  \n",
      "_________________________________________________________________\n",
      "Global_Average_Pooling (Glob (None, 2048)              0         \n",
      "_________________________________________________________________\n",
      "Output_Layer (Dense)         (None, 1)                 2049      \n",
      "=================================================================\n",
      "Total params: 21,804,833\n",
      "Trainable params: 2,049\n",
      "Non-trainable params: 21,802,784\n",
      "_________________________________________________________________\n"
     ]
    }
   ],
   "source": [
    "transfer_model_1.summary()"
   ]
  },
  {
   "cell_type": "code",
   "execution_count": 10,
   "id": "8244588d",
   "metadata": {},
   "outputs": [
    {
     "name": "stdout",
     "output_type": "stream",
     "text": [
      "Model: \"model_1\"\n",
      "_________________________________________________________________\n",
      "Layer (type)                 Output Shape              Param #   \n",
      "=================================================================\n",
      "input_shape (InputLayer)     [(None, 224, 224, 3)]     0         \n",
      "_________________________________________________________________\n",
      "resnet101 (Functional)       (None, None, None, 2048)  42658176  \n",
      "_________________________________________________________________\n",
      "Global_Average_Pooling (Glob (None, 2048)              0         \n",
      "_________________________________________________________________\n",
      "Output_Layer (Dense)         (None, 1)                 2049      \n",
      "=================================================================\n",
      "Total params: 42,660,225\n",
      "Trainable params: 2,049\n",
      "Non-trainable params: 42,658,176\n",
      "_________________________________________________________________\n"
     ]
    }
   ],
   "source": [
    "transfer_model_2.summary()"
   ]
  },
  {
   "cell_type": "code",
   "execution_count": 11,
   "id": "b60f30e9",
   "metadata": {},
   "outputs": [],
   "source": [
    "transfer_model_1.compile(loss=\"binary_crossentropy\",\n",
    "                         optimizer = \"adam\",\n",
    "                         metrics=[\"accuracy\"])"
   ]
  },
  {
   "cell_type": "code",
   "execution_count": 13,
   "id": "715d7661",
   "metadata": {
    "scrolled": false
   },
   "outputs": [
    {
     "name": "stdout",
     "output_type": "stream",
     "text": [
      "Epoch 1/50\n",
      "2527/2527 [==============================] - 866s 329ms/step - loss: 0.7802 - accuracy: 0.7250 - val_loss: 0.9723 - val_accuracy: 0.6682\n",
      "\n",
      "Epoch 00001: val_loss improved from inf to 0.97228, saving model to C:\\GPU\\Saved_models\\InceptionV3\n",
      "INFO:tensorflow:Assets written to: C:\\GPU\\Saved_models\\InceptionV3\\assets\n",
      "Epoch 2/50\n",
      "2527/2527 [==============================] - 750s 294ms/step - loss: 0.6475 - accuracy: 0.7537 - val_loss: 0.4971 - val_accuracy: 0.7934\n",
      "\n",
      "Epoch 00002: val_loss improved from 0.97228 to 0.49711, saving model to C:\\GPU\\Saved_models\\InceptionV3\n",
      "INFO:tensorflow:Assets written to: C:\\GPU\\Saved_models\\InceptionV3\\assets\n",
      "Epoch 3/50\n",
      "2527/2527 [==============================] - 720s 284ms/step - loss: 0.6155 - accuracy: 0.7613 - val_loss: 0.5091 - val_accuracy: 0.7933\n",
      "\n",
      "Epoch 00003: val_loss did not improve from 0.49711\n",
      "Epoch 4/50\n",
      "2527/2527 [==============================] - 679s 268ms/step - loss: 0.5905 - accuracy: 0.7660 - val_loss: 0.7199 - val_accuracy: 0.7480\n",
      "\n",
      "Epoch 00004: val_loss did not improve from 0.49711\n",
      "Epoch 5/50\n",
      "2527/2527 [==============================] - 629s 248ms/step - loss: 0.5847 - accuracy: 0.7716 - val_loss: 1.0405 - val_accuracy: 0.7157\n",
      "\n",
      "Epoch 00005: val_loss did not improve from 0.49711\n",
      "Epoch 6/50\n",
      "2527/2527 [==============================] - 737s 290ms/step - loss: 0.6048 - accuracy: 0.7674 - val_loss: 0.5115 - val_accuracy: 0.7918\n",
      "\n",
      "Epoch 00006: val_loss did not improve from 0.49711\n",
      "Epoch 7/50\n",
      "2527/2527 [==============================] - 662s 261ms/step - loss: 0.5861 - accuracy: 0.7723 - val_loss: 0.7503 - val_accuracy: 0.7776\n",
      "\n",
      "Epoch 00007: val_loss did not improve from 0.49711\n"
     ]
    }
   ],
   "source": [
    "transfer_history_1 = transfer_model_1.fit(train_data,\n",
    "                                          epochs = 50,\n",
    "                                          steps_per_epoch = len(train_data),\n",
    "                                          validation_data = test_data,\n",
    "                                          validation_steps = (len(test_data)),\n",
    "                                          callbacks = callbacks)"
   ]
  },
  {
   "cell_type": "code",
   "execution_count": 14,
   "id": "944a420d",
   "metadata": {},
   "outputs": [
    {
     "name": "stdout",
     "output_type": "stream",
     "text": [
      "843/843 [==============================] - 155s 184ms/step - loss: 0.7503 - accuracy: 0.7776\n"
     ]
    },
    {
     "data": {
      "text/plain": [
       "[0.7503418326377869, 0.7776252627372742]"
      ]
     },
     "execution_count": 14,
     "metadata": {},
     "output_type": "execute_result"
    }
   ],
   "source": [
    "transfer_model_1.evaluate(test_data)"
   ]
  },
  {
   "cell_type": "code",
   "execution_count": 12,
   "id": "4dae4be9",
   "metadata": {},
   "outputs": [],
   "source": [
    "callbacks = create_callbacks(early_stopping=True,\n",
    "                             checkpoint=True,\n",
    "                             monitor=\"val_accuracy\",\n",
    "                             patience = 5,\n",
    "                             save_dir = \"C:\\\\GPU\\\\Saved_models\\\\InceptionV3\",\n",
    "                             save_weights_only = False,\n",
    "                             save_best_only = True,\n",
    "                             save_freq = \"epoch\")"
   ]
  },
  {
   "cell_type": "code",
   "execution_count": 7,
   "id": "40f6da9f",
   "metadata": {},
   "outputs": [],
   "source": [
    "loaded_model1 = tf.keras.models.load_model(\"C:\\\\GPU\\\\Saved_models\\\\Resnet101\")"
   ]
  },
  {
   "cell_type": "code",
   "execution_count": 47,
   "id": "4cd8ce74",
   "metadata": {},
   "outputs": [
    {
     "name": "stdout",
     "output_type": "stream",
     "text": [
      "843/843 [==============================] - 384s 448ms/step - loss: 0.1925 - accuracy: 0.9175\n"
     ]
    },
    {
     "data": {
      "text/plain": [
       "[0.19252990186214447, 0.9175043702125549]"
      ]
     },
     "execution_count": 47,
     "metadata": {},
     "output_type": "execute_result"
    }
   ],
   "source": [
    "loaded_model1.evaluate(test_data)"
   ]
  },
  {
   "cell_type": "code",
   "execution_count": 8,
   "id": "3a9e7c41",
   "metadata": {},
   "outputs": [],
   "source": [
    "preds = loaded_model1.predict(test_data)"
   ]
  },
  {
   "cell_type": "code",
   "execution_count": 19,
   "id": "a13ec7b8",
   "metadata": {},
   "outputs": [],
   "source": [
    "pred_classes = np.round(preds)"
   ]
  },
  {
   "cell_type": "code",
   "execution_count": 17,
   "id": "ae980a70",
   "metadata": {},
   "outputs": [],
   "source": [
    "y_labels = []\n",
    "for images, labels in test_data.unbatch():\n",
    "  label = labels.numpy()\n",
    "  y_labels.append(int(label[0]))"
   ]
  },
  {
   "cell_type": "code",
   "execution_count": 20,
   "id": "f63cf548",
   "metadata": {},
   "outputs": [
    {
     "name": "stdout",
     "output_type": "stream",
     "text": [
      "              precision    recall  f1-score   support\n",
      "\n",
      "           0       0.93      0.88      0.91     12181\n",
      "           1       0.91      0.94      0.93     14778\n",
      "\n",
      "    accuracy                           0.92     26959\n",
      "   macro avg       0.92      0.91      0.92     26959\n",
      "weighted avg       0.92      0.92      0.92     26959\n",
      "\n"
     ]
    }
   ],
   "source": [
    "from sklearn.metrics import confusion_matrix, classification_report\n",
    "\n",
    "print(classification_report(y_true = y_labels,\n",
    "                            y_pred = pred_classes))"
   ]
  },
  {
   "cell_type": "code",
   "execution_count": 15,
   "id": "81005238",
   "metadata": {},
   "outputs": [
    {
     "name": "stdout",
     "output_type": "stream",
     "text": [
      "Found 80852 images belonging to 2 classes.\n",
      "Found 26959 images belonging to 2 classes.\n"
     ]
    }
   ],
   "source": [
    "# Older Method\n",
    "\n",
    "import tensorflow as tf\n",
    "from tensorflow import keras\n",
    "from tensorflow.keras.preprocessing.image import ImageDataGenerator\n",
    "\n",
    "# Rescale\n",
    "train_datagen = ImageDataGenerator(rescale = 1/255.)\n",
    "test_datagen = ImageDataGenerator(rescale=1/255.)\n",
    "\n",
    "# Load data from directories\n",
    "train_data_1 = train_datagen.flow_from_directory(train_dir,\n",
    "                                               target_size = (224,224),\n",
    "                                               batch_size = 32,\n",
    "                                               class_mode = \"binary\")\n",
    "\n",
    "test_data_1 = test_datagen.flow_from_directory(test_dir,\n",
    "                                             target_size = (224,224),\n",
    "                                             batch_size=32,\n",
    "                                             class_mode=\"binary\")"
   ]
  },
  {
   "cell_type": "code",
   "execution_count": 37,
   "id": "62f2a24a",
   "metadata": {},
   "outputs": [],
   "source": [
    "pred_classes = pred_classes.squeeze()\n",
    "\n",
    "int_pred_classes = []\n",
    "for pred_class in pred_classes:\n",
    "  int_pred_classes.append(int(pred_class))\n",
    "\n",
    "int_pred_classes = np.array(int_pred_classes)\n"
   ]
  },
  {
   "cell_type": "code",
   "execution_count": 38,
   "id": "0ffb382e",
   "metadata": {},
   "outputs": [
    {
     "data": {
      "text/plain": [
       "array([0, 1, 1, ..., 1, 1, 1])"
      ]
     },
     "execution_count": 38,
     "metadata": {},
     "output_type": "execute_result"
    }
   ],
   "source": [
    "int_pred_classes = np.array(int_pred_classes)\n",
    "int_pred_classes"
   ]
  },
  {
   "cell_type": "code",
   "execution_count": 41,
   "id": "7d41b56f",
   "metadata": {},
   "outputs": [],
   "source": [
    "import pandas as pd\n",
    "df = pd.DataFrame()\n",
    "df[\"Filepath\"] = test_data_1.filepaths\n",
    "df[\"True_Label\"] = test_data_1.labels \n",
    "df[\"Pred_Label\"] = int_pred_classes"
   ]
  },
  {
   "cell_type": "code",
   "execution_count": 42,
   "id": "49980f31",
   "metadata": {},
   "outputs": [
    {
     "data": {
      "text/html": [
       "<div>\n",
       "<style scoped>\n",
       "    .dataframe tbody tr th:only-of-type {\n",
       "        vertical-align: middle;\n",
       "    }\n",
       "\n",
       "    .dataframe tbody tr th {\n",
       "        vertical-align: top;\n",
       "    }\n",
       "\n",
       "    .dataframe thead th {\n",
       "        text-align: right;\n",
       "    }\n",
       "</style>\n",
       "<table border=\"1\" class=\"dataframe\">\n",
       "  <thead>\n",
       "    <tr style=\"text-align: right;\">\n",
       "      <th></th>\n",
       "      <th>Filepath</th>\n",
       "      <th>True_Label</th>\n",
       "      <th>Pred_Label</th>\n",
       "    </tr>\n",
       "  </thead>\n",
       "  <tbody>\n",
       "    <tr>\n",
       "      <th>0</th>\n",
       "      <td>E:\\3rd Year\\T9\\AI\\Mini Project\\New_Data\\test\\B...</td>\n",
       "      <td>0</td>\n",
       "      <td>0</td>\n",
       "    </tr>\n",
       "    <tr>\n",
       "      <th>1</th>\n",
       "      <td>E:\\3rd Year\\T9\\AI\\Mini Project\\New_Data\\test\\B...</td>\n",
       "      <td>0</td>\n",
       "      <td>1</td>\n",
       "    </tr>\n",
       "    <tr>\n",
       "      <th>2</th>\n",
       "      <td>E:\\3rd Year\\T9\\AI\\Mini Project\\New_Data\\test\\B...</td>\n",
       "      <td>0</td>\n",
       "      <td>1</td>\n",
       "    </tr>\n",
       "    <tr>\n",
       "      <th>3</th>\n",
       "      <td>E:\\3rd Year\\T9\\AI\\Mini Project\\New_Data\\test\\B...</td>\n",
       "      <td>0</td>\n",
       "      <td>0</td>\n",
       "    </tr>\n",
       "    <tr>\n",
       "      <th>4</th>\n",
       "      <td>E:\\3rd Year\\T9\\AI\\Mini Project\\New_Data\\test\\B...</td>\n",
       "      <td>0</td>\n",
       "      <td>0</td>\n",
       "    </tr>\n",
       "  </tbody>\n",
       "</table>\n",
       "</div>"
      ],
      "text/plain": [
       "                                            Filepath  True_Label  Pred_Label\n",
       "0  E:\\3rd Year\\T9\\AI\\Mini Project\\New_Data\\test\\B...           0           0\n",
       "1  E:\\3rd Year\\T9\\AI\\Mini Project\\New_Data\\test\\B...           0           1\n",
       "2  E:\\3rd Year\\T9\\AI\\Mini Project\\New_Data\\test\\B...           0           1\n",
       "3  E:\\3rd Year\\T9\\AI\\Mini Project\\New_Data\\test\\B...           0           0\n",
       "4  E:\\3rd Year\\T9\\AI\\Mini Project\\New_Data\\test\\B...           0           0"
      ]
     },
     "execution_count": 42,
     "metadata": {},
     "output_type": "execute_result"
    }
   ],
   "source": [
    "df.head()"
   ]
  },
  {
   "cell_type": "code",
   "execution_count": 43,
   "id": "87ab9cad",
   "metadata": {},
   "outputs": [
    {
     "data": {
      "text/plain": [
       "0.9175043584702697"
      ]
     },
     "execution_count": 43,
     "metadata": {},
     "output_type": "execute_result"
    }
   ],
   "source": [
    "acc = 0\n",
    "total = len(df)\n",
    "for i in range(len(df)):\n",
    "  if(df[\"True_Label\"][i] == df[\"Pred_Label\"][i]):\n",
    "    acc = acc + 1\n",
    "\n",
    "accuracy  = acc/total\n",
    "accuracy"
   ]
  },
  {
   "cell_type": "code",
   "execution_count": 44,
   "id": "5542bcaa",
   "metadata": {},
   "outputs": [
    {
     "data": {
      "text/plain": [
       "2224"
      ]
     },
     "execution_count": 44,
     "metadata": {},
     "output_type": "execute_result"
    }
   ],
   "source": [
    "wrong_instances = total - acc\n",
    "wrong_instances"
   ]
  },
  {
   "cell_type": "code",
   "execution_count": 45,
   "id": "5ab6ffc3",
   "metadata": {},
   "outputs": [],
   "source": [
    "\n",
    "\n",
    "def copy_image(image_path, destination_folder):\n",
    "  shutil.copy(image_path, destination_folder)\n"
   ]
  },
  {
   "cell_type": "code",
   "execution_count": 46,
   "id": "feaa1ae0",
   "metadata": {},
   "outputs": [],
   "source": [
    "destination_folder = \"C:\\\\GPU\\\\Wrong Preds\"\n",
    "wrong_count = 0\n",
    "for i in range(len(df)):\n",
    "  if(df[\"True_Label\"][i] != df[\"Pred_Label\"][i]):\n",
    "    wrong_count = wrong_count + 1\n",
    "    file_path = df[\"Filepath\"][i]\n",
    "    copy_image(image_path=file_path,\n",
    "               destination_folder=destination_folder)"
   ]
  },
  {
   "cell_type": "code",
   "execution_count": 47,
   "id": "69964bd1",
   "metadata": {},
   "outputs": [
    {
     "name": "stdout",
     "output_type": "stream",
     "text": [
      "[[10775  1406]\n",
      " [  818 13960]]\n"
     ]
    }
   ],
   "source": [
    "from sklearn.metrics import confusion_matrix\n",
    "\n",
    "print(confusion_matrix(y_pred=int_pred_classes,\n",
    "                       y_true = y_labels))"
   ]
  },
  {
   "cell_type": "code",
   "execution_count": 48,
   "id": "5a0a56ea",
   "metadata": {},
   "outputs": [
    {
     "data": {
      "image/png": "[encoded data removed]",
      "text/plain": [
       "<Figure size 720x720 with 2 Axes>"
      ]
     },
     "metadata": {
      "needs_background": "light"
     },
     "output_type": "display_data"
    }
   ],
   "source": [
    "make_confusion_matrix(y_true = y_labels,\n",
    "                      y_pred = int_pred_classes,\n",
    "                      classes = class_names)"
   ]
  },
  {
   "cell_type": "code",
   "execution_count": 1,
   "id": "a8c04019",
   "metadata": {},
   "outputs": [],
   "source": [
    "import glob\n",
    "import shutil\n",
    "import os\n",
    "\n",
    "def copy_image(image_path, destination_folder):\n",
    "  shutil.copy(image_path, destination_folder)\n",
    "\n",
    "def rename_image(old_name, new_name):\n",
    "  os.rename(old_name, new_name)\n",
    "\n",
    "def rename_and_shift_wrong_preds(df, destination_folder):\n",
    "  length = len(df)\n",
    "  for i in range(length):\n",
    "    if(df[\"True_Label\"][i] != df[\"Pred_Label\"][i]):\n",
    "      file_path = df[\"Filepath\"][i]\n",
    "      copy_image(image_path=file_path,\n",
    "                destination_folder=destination_folder)\n",
    "      img_name = (df[\"Filepath\"][i]).split(\"\\\\\")[-1]\n",
    "      new_path = destination_folder + \"\\\\\" + img_name\n",
    "      pred_label = df[\"Pred_Label\"][i]\n",
    "      true_label = df[\"True_Label\"][i]\n",
    "      final_name = f\"Pred[{pred_label}]_True[{true_label}]_{img_name}\"\n",
    "      final_path = destination_folder + \"\\\\\" + final_name + \".jpg\"\n",
    "      print(f\"Copying {img_name} to destination folder and Renaming it to {final_name}\")\n",
    "      rename_image(old_name=new_path,\n",
    "                   new_name=final_path)\n"
   ]
  },
  {
   "cell_type": "code",
   "execution_count": null,
   "id": "0608d35c",
   "metadata": {},
   "outputs": [],
   "source": []
  }
 ],
 "metadata": {
  "kernelspec": {
   "display_name": "Python 3",
   "language": "python",
   "name": "python3"
  },
  "language_info": {
   "codemirror_mode": {
    "name": "ipython",
    "version": 3
   },
   "file_extension": ".py",
   "mimetype": "text/x-python",
   "name": "python",
   "nbconvert_exporter": "python",
   "pygments_lexer": "ipython3",
   "version": "3.6.13"
  }
 },
 "nbformat": 4,
 "nbformat_minor": 5
}
